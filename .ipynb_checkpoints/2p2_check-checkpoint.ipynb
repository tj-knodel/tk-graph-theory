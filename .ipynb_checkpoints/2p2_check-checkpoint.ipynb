{
 "cells": [
  {
   "cell_type": "code",
   "execution_count": 1,
   "id": "e4539026",
   "metadata": {},
   "outputs": [
    {
     "name": "stdout",
     "output_type": "stream",
     "text": [
      "hello world!\n"
     ]
    }
   ],
   "source": [
    "print(\"hello world!\")"
   ]
  },
  {
   "cell_type": "code",
   "execution_count": 6,
   "id": "0e6fbbed",
   "metadata": {},
   "outputs": [],
   "source": [
    "## Here we are going to test this by creating a 2p2 graph\n",
    "# First create an empty graph\n",
    "g = graphs.EmptyGraph()\n",
    "\n",
    "# Now we add the vertices and edges\n",
    "g.add_vertices([1, 2, 3, 4])\n",
    "g.add_edges([(1,2), (3,4)], loops=false)"
   ]
  },
  {
   "cell_type": "code",
   "execution_count": 125,
   "id": "4e8fb908",
   "metadata": {},
   "outputs": [
    {
     "ename": "NameError",
     "evalue": "name 'g' is not defined",
     "output_type": "error",
     "traceback": [
      "\u001b[0;31m---------------------------------------------------------------------------\u001b[0m",
      "\u001b[0;31mNameError\u001b[0m                                 Traceback (most recent call last)",
      "\u001b[0;32m/tmp/ipykernel_1635/940161381.py\u001b[0m in \u001b[0;36m<module>\u001b[0;34m\u001b[0m\n\u001b[1;32m      1\u001b[0m \u001b[0;31m# print the graph!\u001b[0m\u001b[0;34m\u001b[0m\u001b[0;34m\u001b[0m\u001b[0m\n\u001b[0;32m----> 2\u001b[0;31m \u001b[0mP\u001b[0m \u001b[0;34m=\u001b[0m \u001b[0mg\u001b[0m\u001b[0;34m.\u001b[0m\u001b[0mplot\u001b[0m\u001b[0;34m(\u001b[0m\u001b[0;34m)\u001b[0m\u001b[0;34m\u001b[0m\u001b[0;34m\u001b[0m\u001b[0m\n\u001b[0m\u001b[1;32m      3\u001b[0m \u001b[0mP\u001b[0m\u001b[0;34m.\u001b[0m\u001b[0mshow\u001b[0m\u001b[0;34m(\u001b[0m\u001b[0;34m)\u001b[0m\u001b[0;34m\u001b[0m\u001b[0;34m\u001b[0m\u001b[0m\n",
      "\u001b[0;31mNameError\u001b[0m: name 'g' is not defined"
     ]
    }
   ],
   "source": [
    "# print the graph!\n",
    "P = g.plot()\n",
    "P.show()"
   ]
  },
  {
   "cell_type": "code",
   "execution_count": 50,
   "id": "82590f80",
   "metadata": {},
   "outputs": [],
   "source": [
    "## Read in a graph as a string, then show it\n",
    "from sage.graphs.graph_input import from_graph6\n",
    "from os import listdir\n",
    "# why do we need regex? to needlessly complicate things, of course!\n",
    "import re\n",
    "\n",
    "# path to the graph files\n",
    "FILE_PATH = \"./P3P1free_critical-main\"\n",
    "OUT_PATH = \"./2P2_P3P1free\"\n",
    "\n",
    "# generate a 2P2 graph\n",
    "def generate_2p2():\n",
    "    g = graphs.EmptyGraph()\n",
    "    # Now we add the vertices and edges\n",
    "    g.add_vertices([1, 2, 3, 4])\n",
    "    g.add_edges([(1,2), (3,4)], loops=False)\n",
    "    return g\n",
    "\n",
    "# set it as a variable for later\n",
    "twoP = generate_2p2()\n",
    "\n",
    "# check a file of graph6 graphs and determine which ones do not have the given subgraph\n",
    "def check_file(file, sg):\n",
    "    # open the file\n",
    "    f = open(file)\n",
    "    \n",
    "    graph_list = []\n",
    "    \n",
    "    # read a line\n",
    "    with open(file) as f:\n",
    "        for line in f:\n",
    "            #print(line)\n",
    "            # I feel like this is wrong, but so be it\n",
    "            if (line == \"\\n\"):\n",
    "                continue\n",
    "            \n",
    "            # create a graph out of a graph6 line\n",
    "            g = Graph(line)\n",
    "            # check the graph for graphs without sg and add them to the list\n",
    "            if (g.subgraph_search(sg, induced=True) is None):\n",
    "                #print(\"look at these good vertices\")\n",
    "                #print(g)\n",
    "                graph_list.append(g)\n",
    "\n",
    "    print(\"Number of graphs: \" + str(len(graph_list)))\n",
    "    return\n",
    "\n",
    "# extract the graph6 files from the selected directory\n",
    "# note: it only picks up things with txt files on the end. Will have to\n",
    "#       to pick up if there are g6 files\n",
    "def get_graph6_files(dir_path):\n",
    "    file_list = listdir(dir_path)\n",
    "    out_list = []\n",
    "    for file in file_list:\n",
    "        match = re.search(r\"\\.*\\.txt\", file)\n",
    "        #print(match)\n",
    "        if match is not None:\n",
    "            out_list.append(match.string)\n",
    "    return out_list\n",
    "\n",
    "# check the whole directory for the subgraph\n",
    "def check_directory(dir_path, sg):\n",
    "    file_list = get_graph6_files(dir_path)\n",
    "    print(file_list)\n",
    "    for file in file_list:\n",
    "        print(\"Checking file: \" + file)\n",
    "        print(check_file(dir_path + \"/\" + file, sg))\n",
    "    return"
   ]
  },
  {
   "cell_type": "code",
   "execution_count": 59,
   "id": "9fb2a63e",
   "metadata": {},
   "outputs": [
    {
     "name": "stdout",
     "output_type": "stream",
     "text": [
      "Subgraph of ()\n"
     ]
    }
   ],
   "source": [
    "print(graph_subgraph_check(\"C~\", twoP))"
   ]
  },
  {
   "cell_type": "raw",
   "id": "d21460af",
   "metadata": {},
   "source": []
  },
  {
   "cell_type": "code",
   "execution_count": 26,
   "id": "91ace172",
   "metadata": {},
   "outputs": [
    {
     "name": "stdout",
     "output_type": "stream",
     "text": [
      "C~\n",
      "\n",
      "Subgraph of ()\n",
      "\n",
      "\n"
     ]
    }
   ],
   "source": [
    "check_file(FILE_PATH + \"/4critP3P1free4.txt\", twoP)"
   ]
  },
  {
   "cell_type": "code",
   "execution_count": 51,
   "id": "9ca630fa",
   "metadata": {
    "scrolled": true
   },
   "outputs": [
    {
     "name": "stdout",
     "output_type": "stream",
     "text": [
      "['5critP3P1free9.txt', '5critP3P1free5.txt', '4critP3P1free7.txt', '6critP3P1free11.txt', '7critP3P1free7.txt', '7critP3P1free9.txt', '4critP3P1free6.txt', '6critP3P1free9.txt', '6critP3P1free6.txt', '6critP3P1free10.txt', '6critP3P1free8.txt', '7critP3P1free10.txt', '7critP3P1free12.txt', '7critP3P1free11.txt', '5critP3P1free8.txt', '5critP3P1free7.txt', '4critP3P1free4.txt']\n",
      "Checking file: 5critP3P1free9.txt\n",
      "Number of graphs: 11\n",
      "None\n",
      "Checking file: 5critP3P1free5.txt\n",
      "Number of graphs: 1\n",
      "None\n",
      "Checking file: 4critP3P1free7.txt\n",
      "Number of graphs: 2\n",
      "None\n",
      "Checking file: 6critP3P1free11.txt\n",
      "Number of graphs: 126\n",
      "None\n",
      "Checking file: 7critP3P1free7.txt\n",
      "Number of graphs: 1\n",
      "None\n",
      "Checking file: 7critP3P1free9.txt\n",
      "Number of graphs: 1\n",
      "None\n",
      "Checking file: 4critP3P1free6.txt\n",
      "Number of graphs: 1\n",
      "None\n",
      "Checking file: 6critP3P1free9.txt\n",
      "Number of graphs: 2\n",
      "None\n",
      "Checking file: 6critP3P1free6.txt\n",
      "Number of graphs: 1\n",
      "None\n",
      "Checking file: 6critP3P1free10.txt\n",
      "Number of graphs: 12\n",
      "None\n",
      "Checking file: 6critP3P1free8.txt\n",
      "Number of graphs: 1\n",
      "None\n",
      "Checking file: 7critP3P1free10.txt\n",
      "Number of graphs: 2\n",
      "None\n",
      "Checking file: 7critP3P1free12.txt\n",
      "Number of graphs: 128\n",
      "None\n",
      "Checking file: 7critP3P1free11.txt\n",
      "Number of graphs: 12\n",
      "None\n",
      "Checking file: 5critP3P1free8.txt\n",
      "Number of graphs: 2\n",
      "None\n",
      "Checking file: 5critP3P1free7.txt\n",
      "Number of graphs: 1\n",
      "None\n",
      "Checking file: 4critP3P1free4.txt\n",
      "Number of graphs: 1\n",
      "None\n"
     ]
    }
   ],
   "source": [
    "check_directory(FILE_PATH, twoP)"
   ]
  },
  {
   "cell_type": "code",
   "execution_count": 67,
   "id": "a4515818",
   "metadata": {},
   "outputs": [
    {
     "data": {
      "image/png": "[encoded data removed]",
      "text/plain": [
       "Graphics object consisting of 29 graphics primitives"
      ]
     },
     "metadata": {},
     "output_type": "display_data"
    }
   ],
   "source": [
    "G = Graph()\n",
    "from_graph6(G,\"HQhTUh}\")\n",
    "P = G.plot()\n",
    "P.show()"
   ]
  },
  {
   "cell_type": "code",
   "execution_count": 98,
   "id": "0513d70b",
   "metadata": {},
   "outputs": [
    {
     "name": "stdout",
     "output_type": "stream",
     "text": [
      "FqjRo\n",
      "\n",
      "FQjRo\n",
      "\n",
      "FrjRo\n",
      "\n",
      "FrjZo\n",
      "\n",
      "FYjRo\n",
      "\n",
      "FYnRo\n",
      "\n"
     ]
    }
   ],
   "source": [
    "listdir(FILE_PATH)\n",
    "check_file(FILE_PATH + \"/4critP3P1free7.txt\", twoP)"
   ]
  },
  {
   "cell_type": "code",
   "execution_count": 29,
   "id": "442c7770",
   "metadata": {},
   "outputs": [
    {
     "name": "stdout",
     "output_type": "stream",
     "text": [
      "{0: None, 1: None, 3: None, 4: None}\n"
     ]
    },
    {
     "data": {
      "image/png": "[encoded data removed]",
      "text/plain": [
       "Graphics object consisting of 7 graphics primitives"
      ]
     },
     "metadata": {},
     "output_type": "display_data"
    }
   ],
   "source": [
    "# this just confirms that the subgraph_search is working\n",
    "twoP_prime = generate_2p2()\n",
    "twoP = graphs.PathGraph(5)\n",
    "P = twoP.subgraph_search(twoP_prime, induced=True).plot()\n",
    "print(twoP.subgraph_search(twoP_prime, induced=True).get_vertices())\n",
    "P.show()"
   ]
  },
  {
   "cell_type": "code",
   "execution_count": null,
   "id": "6f128085",
   "metadata": {},
   "outputs": [],
   "source": []
  },
  {
   "cell_type": "code",
   "execution_count": null,
   "id": "f67e7dd0",
   "metadata": {},
   "outputs": [],
   "source": []
  }
 ],
 "metadata": {
  "kernelspec": {
   "display_name": "SageMath 9.5",
   "language": "sage",
   "name": "sagemath"
  },
  "language_info": {
   "codemirror_mode": {
    "name": "ipython",
    "version": 3
   },
   "file_extension": ".py",
   "mimetype": "text/x-python",
   "name": "python",
   "nbconvert_exporter": "python",
   "pygments_lexer": "ipython3",
   "version": "3.10.12"
  }
 },
 "nbformat": 4,
 "nbformat_minor": 5
}
